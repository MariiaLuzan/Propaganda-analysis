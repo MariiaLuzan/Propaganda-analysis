{
 "cells": [
  {
   "cell_type": "markdown",
   "id": "d84d4140",
   "metadata": {},
   "source": [
    " # Visualization style"
   ]
  },
  {
   "cell_type": "code",
   "execution_count": null,
   "id": "9c3091c1",
   "metadata": {},
   "outputs": [],
   "source": [
    "import matplotlib.pyplot as plt\n",
    "import matplotlib\n",
    "\n",
    "color_txt_labels = '#897C57'\n",
    "\n",
    "# Colors for lines\n",
    "color_1 = '#3C8689'\n",
    "color_2 = '#E2BA41'\n",
    "color_3 = '#C8904D'\n",
    "color_4= '#66AF9E'\n",
    "\n",
    "\n",
    "# Update params to make all visualizations in one style\n",
    "matplotlib.rc('axes', edgecolor=color_txt_labels)\n",
    "plt.rcParams.update({'text.color': color_txt_labels,\n",
    "                     'axes.labelcolor': color_txt_labels,\n",
    "                     'xtick.color': color_txt_labels,\n",
    "                     'ytick.color': color_txt_labels,\n",
    "                     'axes.titleweight': 'bold'})"
   ]
  }
 ],
 "metadata": {
  "kernelspec": {
   "display_name": "Python 3 (ipykernel)",
   "language": "python",
   "name": "python3"
  },
  "language_info": {
   "codemirror_mode": {
    "name": "ipython",
    "version": 3
   },
   "file_extension": ".py",
   "mimetype": "text/x-python",
   "name": "python",
   "nbconvert_exporter": "python",
   "pygments_lexer": "ipython3",
   "version": "3.9.13"
  }
 },
 "nbformat": 4,
 "nbformat_minor": 5
}
