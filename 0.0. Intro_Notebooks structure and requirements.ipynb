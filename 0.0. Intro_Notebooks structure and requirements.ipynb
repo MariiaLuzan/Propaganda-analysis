{
 "cells": [
  {
   "cell_type": "markdown",
   "id": "9c340f86",
   "metadata": {},
   "source": [
    "# 0. Introduction\n",
    "## 0.0 Notebooks structure and requirements"
   ]
  },
  {
   "cell_type": "markdown",
   "id": "c27d6fa7",
   "metadata": {},
   "source": [
    "## Notebooks structure\n",
    "\n",
    "Our project consists of three main steps: data gathering, data manipulation, and analysis. We've structured our notebooks to align with these steps, and the full list of files is as follows:\n",
    "\n",
    "- 0.0. Intro_Notebooks structure and requirements.ipynb\n",
    "- 0.1. Intro_Visualization style.ipynb\n",
    "- 1.1. Gathering_Primary set.py\n",
    "- 1.2. Gathering_Secondary set.ipynb\n",
    "- 2.0. DataManipulation_Functions.ipynb\n",
    "- 2.1. DataManipulation_Check scraping.ipynb\n",
    "- 2.2. DataManipulation_Data quality.ipynb\n",
    "- 2.3. DataManipulation_Tokenization.ipynb\n",
    "- 3.0. Analysis_Functions.ipynb\n",
    "- 3.1. Analysis_Q1.ipynb\n",
    "- 3.2. Analysis_Q1_Q2.ipynb\n",
    "- 3.3. Analysis_Q3.ipynb\n",
    "- 3.4. Analysis_Q4.ipynb\n",
    "- 3.5. Analysis_Q5.ipynb\n",
    "- 3.6. Analysis_Q6.ipynb\n",
    "\n",
    "Notebooks that have \"_functions\" at the end of their names contain functions that are utilized in other notebooks.\n"
   ]
  },
  {
   "cell_type": "markdown",
   "id": "e60f4852",
   "metadata": {},
   "source": [
    "## Requirements\n",
    "- python 3.9.13\n",
    "- numpy 1.21.5\n",
    "- pandas 1.4.4\n",
    "- matplotlib 3.5.2\n",
    "- wordcloud 1.8.2.2\n",
    "- translators 5.5.6\n",
    "- spacy 3.5.0\n",
    "- altair 4.2.0"
   ]
  }
 ],
 "metadata": {
  "kernelspec": {
   "display_name": "Python 3 (ipykernel)",
   "language": "python",
   "name": "python3"
  },
  "language_info": {
   "codemirror_mode": {
    "name": "ipython",
    "version": 3
   },
   "file_extension": ".py",
   "mimetype": "text/x-python",
   "name": "python",
   "nbconvert_exporter": "python",
   "pygments_lexer": "ipython3",
   "version": "3.9.13"
  }
 },
 "nbformat": 4,
 "nbformat_minor": 5
}
