{
 "cells": [
  {
   "cell_type": "markdown",
   "id": "649acef3",
   "metadata": {},
   "source": [
    "# 3. Analysis\n",
    "## 3.3. Q3. Frequency of catchy slogans"
   ]
  },
  {
   "cell_type": "code",
   "execution_count": 1,
   "id": "8c5806f8",
   "metadata": {},
   "outputs": [],
   "source": [
    "import pandas as pd\n",
    "import numpy as np\n",
    "import matplotlib.pyplot as plt"
   ]
  },
  {
   "cell_type": "code",
   "execution_count": 2,
   "id": "333937c0",
   "metadata": {},
   "outputs": [],
   "source": [
    "%run \"0.1. Intro_Visualization style.ipynb\""
   ]
  },
  {
   "cell_type": "code",
   "execution_count": 3,
   "id": "c4280ec9",
   "metadata": {},
   "outputs": [],
   "source": [
    "%run \"3.0. Analysis_Functions.ipynb\""
   ]
  },
  {
   "cell_type": "markdown",
   "id": "cf947e32",
   "metadata": {},
   "source": [
    "## Data loading"
   ]
  },
  {
   "cell_type": "code",
   "execution_count": 4,
   "id": "844cad86",
   "metadata": {},
   "outputs": [],
   "source": [
    "# Path to tokenized data\n",
    "file = 'data/df_tokenized.csv'"
   ]
  },
  {
   "cell_type": "code",
   "execution_count": 5,
   "id": "1069c8d6",
   "metadata": {},
   "outputs": [],
   "source": [
    "df_tokenized = pd.read_csv(file)\n",
    "df_tokenized.drop(columns=['Unnamed: 0'], inplace=True)"
   ]
  },
  {
   "cell_type": "code",
   "execution_count": 6,
   "id": "b8d59e07",
   "metadata": {},
   "outputs": [],
   "source": [
    "# Prepare columns with dates\n",
    "df_tokenized['dat'] = pd.to_datetime(df_tokenized['dat'])\n",
    "df_tokenized['datetime'] = pd.to_datetime(df_tokenized['date'])\n",
    "df_tokenized['year_month'] = pd.to_datetime(df_tokenized['year_month'].astype(str), \n",
    "                                            format='%Y-%m')"
   ]
  },
  {
   "cell_type": "code",
   "execution_count": 7,
   "id": "5feb6311",
   "metadata": {},
   "outputs": [],
   "source": [
    "# Make all columns lower case\n",
    "for col in ['tags_top', 'title', 'body', 'tags_bottom', 'body_token_final', 'title_token_final']:\n",
    "    df_tokenized[col] = df_tokenized[col].str.lower()"
   ]
  },
  {
   "cell_type": "code",
   "execution_count": 8,
   "id": "d032ffcb",
   "metadata": {},
   "outputs": [],
   "source": [
    "df_tokenized['video_duration_min'] = df_tokenized['video_duration_seconds'] / 60"
   ]
  },
  {
   "cell_type": "code",
   "execution_count": 9,
   "id": "0bc583f0",
   "metadata": {},
   "outputs": [
    {
     "data": {
      "text/html": [
       "<div>\n",
       "<style scoped>\n",
       "    .dataframe tbody tr th:only-of-type {\n",
       "        vertical-align: middle;\n",
       "    }\n",
       "\n",
       "    .dataframe tbody tr th {\n",
       "        vertical-align: top;\n",
       "    }\n",
       "\n",
       "    .dataframe thead th {\n",
       "        text-align: right;\n",
       "    }\n",
       "</style>\n",
       "<table border=\"1\" class=\"dataframe\">\n",
       "  <thead>\n",
       "    <tr style=\"text-align: right;\">\n",
       "      <th></th>\n",
       "      <th>id_in_source_file</th>\n",
       "      <th>date</th>\n",
       "      <th>tags_top</th>\n",
       "      <th>title</th>\n",
       "      <th>url</th>\n",
       "      <th>body</th>\n",
       "      <th>tags_bottom</th>\n",
       "      <th>video_duration_seconds</th>\n",
       "      <th>file_key</th>\n",
       "      <th>datetime</th>\n",
       "      <th>dat</th>\n",
       "      <th>year</th>\n",
       "      <th>year_month</th>\n",
       "      <th>hour</th>\n",
       "      <th>weekday</th>\n",
       "      <th>whole newscast</th>\n",
       "      <th>body_token_final</th>\n",
       "      <th>title_token_final</th>\n",
       "      <th>video_duration_min</th>\n",
       "    </tr>\n",
       "  </thead>\n",
       "  <tbody>\n",
       "    <tr>\n",
       "      <th>0</th>\n",
       "      <td>15</td>\n",
       "      <td>2023-01-27 21:45:00</td>\n",
       "      <td>общество</td>\n",
       "      <td>выпуск программы «время» в 21:00 от 27.01.2023</td>\n",
       "      <td>https://www.1tv.ru/news/2023-01-27/446104-vypu...</td>\n",
       "      <td>смотрите в этом выпуске: 79 лет назад была пол...</td>\n",
       "      <td>общество</td>\n",
       "      <td>2422.0</td>\n",
       "      <td>0-15</td>\n",
       "      <td>2023-01-27 21:45:00</td>\n",
       "      <td>2023-01-27</td>\n",
       "      <td>2023</td>\n",
       "      <td>2023-01-01</td>\n",
       "      <td>21</td>\n",
       "      <td>4</td>\n",
       "      <td>True</td>\n",
       "      <td>['смотреть', 'выпуск', '79', 'год', 'полностью...</td>\n",
       "      <td>['выпуск', 'программа', 'время', '21:00', '27....</td>\n",
       "      <td>40.366667</td>\n",
       "    </tr>\n",
       "    <tr>\n",
       "      <th>1</th>\n",
       "      <td>16</td>\n",
       "      <td>2023-01-27 21:35:00</td>\n",
       "      <td>культура</td>\n",
       "      <td>в москве проходит церемония вручения премии «з...</td>\n",
       "      <td>https://www.1tv.ru/news/2023-01-27/446121-v_mo...</td>\n",
       "      <td>событие в мире отечественного кино. в москве в...</td>\n",
       "      <td>культура,кино,марина зудина,екатерина климова,...</td>\n",
       "      <td>290.0</td>\n",
       "      <td>0-15</td>\n",
       "      <td>2023-01-27 21:35:00</td>\n",
       "      <td>2023-01-27</td>\n",
       "      <td>2023</td>\n",
       "      <td>2023-01-01</td>\n",
       "      <td>21</td>\n",
       "      <td>4</td>\n",
       "      <td>False</td>\n",
       "      <td>['событие', 'мир', 'отечественный', 'кино', 'м...</td>\n",
       "      <td>['москва', 'проходить', 'церемония', 'вручение...</td>\n",
       "      <td>4.833333</td>\n",
       "    </tr>\n",
       "    <tr>\n",
       "      <th>2</th>\n",
       "      <td>20</td>\n",
       "      <td>2023-01-27 21:34:00</td>\n",
       "      <td>спорт</td>\n",
       "      <td>в туле появился новый футбольный манеж</td>\n",
       "      <td>https://www.1tv.ru/news/2023-01-27/446120-v_tu...</td>\n",
       "      <td>футбольный манеж в туле — искусственный газон ...</td>\n",
       "      <td>спорт,регионы,футбол,алексей дюмин,тульская об...</td>\n",
       "      <td>48.0</td>\n",
       "      <td>0-15</td>\n",
       "      <td>2023-01-27 21:34:00</td>\n",
       "      <td>2023-01-27</td>\n",
       "      <td>2023</td>\n",
       "      <td>2023-01-01</td>\n",
       "      <td>21</td>\n",
       "      <td>4</td>\n",
       "      <td>False</td>\n",
       "      <td>['футбольный', 'манеж', 'тула', 'искусственный...</td>\n",
       "      <td>['тула', 'появиться', 'новый', 'футбольный', '...</td>\n",
       "      <td>0.800000</td>\n",
       "    </tr>\n",
       "  </tbody>\n",
       "</table>\n",
       "</div>"
      ],
      "text/plain": [
       "   id_in_source_file                 date  tags_top  \\\n",
       "0                 15  2023-01-27 21:45:00  общество   \n",
       "1                 16  2023-01-27 21:35:00  культура   \n",
       "2                 20  2023-01-27 21:34:00     спорт   \n",
       "\n",
       "                                               title  \\\n",
       "0     выпуск программы «время» в 21:00 от 27.01.2023   \n",
       "1  в москве проходит церемония вручения премии «з...   \n",
       "2             в туле появился новый футбольный манеж   \n",
       "\n",
       "                                                 url  \\\n",
       "0  https://www.1tv.ru/news/2023-01-27/446104-vypu...   \n",
       "1  https://www.1tv.ru/news/2023-01-27/446121-v_mo...   \n",
       "2  https://www.1tv.ru/news/2023-01-27/446120-v_tu...   \n",
       "\n",
       "                                                body  \\\n",
       "0  смотрите в этом выпуске: 79 лет назад была пол...   \n",
       "1  событие в мире отечественного кино. в москве в...   \n",
       "2  футбольный манеж в туле — искусственный газон ...   \n",
       "\n",
       "                                         tags_bottom  video_duration_seconds  \\\n",
       "0                                           общество                  2422.0   \n",
       "1  культура,кино,марина зудина,екатерина климова,...                   290.0   \n",
       "2  спорт,регионы,футбол,алексей дюмин,тульская об...                    48.0   \n",
       "\n",
       "  file_key            datetime        dat  year year_month  hour  weekday  \\\n",
       "0     0-15 2023-01-27 21:45:00 2023-01-27  2023 2023-01-01    21        4   \n",
       "1     0-15 2023-01-27 21:35:00 2023-01-27  2023 2023-01-01    21        4   \n",
       "2     0-15 2023-01-27 21:34:00 2023-01-27  2023 2023-01-01    21        4   \n",
       "\n",
       "   whole newscast                                   body_token_final  \\\n",
       "0            True  ['смотреть', 'выпуск', '79', 'год', 'полностью...   \n",
       "1           False  ['событие', 'мир', 'отечественный', 'кино', 'м...   \n",
       "2           False  ['футбольный', 'манеж', 'тула', 'искусственный...   \n",
       "\n",
       "                                   title_token_final  video_duration_min  \n",
       "0  ['выпуск', 'программа', 'время', '21:00', '27....           40.366667  \n",
       "1  ['москва', 'проходить', 'церемония', 'вручение...            4.833333  \n",
       "2  ['тула', 'появиться', 'новый', 'футбольный', '...            0.800000  "
      ]
     },
     "execution_count": 9,
     "metadata": {},
     "output_type": "execute_result"
    }
   ],
   "source": [
    "df_tokenized.head(3)"
   ]
  },
  {
   "cell_type": "markdown",
   "id": "7cab0b37",
   "metadata": {},
   "source": [
    "## Estimating the duration of news stories featuring catchy slogans"
   ]
  },
  {
   "cell_type": "code",
   "execution_count": 10,
   "id": "8a26fbad",
   "metadata": {},
   "outputs": [],
   "source": [
    "# List of catchy slogans for analysis\n",
    "slogans = [\n",
    "    ['коллективный запад', 'коллективном западе', 'коллективному западу', 'коллективного запада'],\n",
    "    ['своих не бросаем'],\n",
    "    ['мы вместе', 'мывместе'],\n",
    "    ['все для победы', 'всё для победы'],\n",
    "    ['традиционные ценности', 'традиционных ценностях', 'традиционным ценностям', 'традиционных ценностей'],\n",
    "    ['грязная бомба', 'грязную бомбу', 'грязной бомбы', 'грязной бомбе']\n",
    "]"
   ]
  },
  {
   "cell_type": "code",
   "execution_count": 11,
   "id": "ca4ec68f",
   "metadata": {},
   "outputs": [],
   "source": [
    "def slogans_duration(df, slogans):\n",
    "    \"\"\"\n",
    "    Calculates the duration of news featuring slogans\n",
    "    Args:\n",
    "    df - dataframe\n",
    "    slogans - list of lists\n",
    "    \n",
    "    Returns:\n",
    "    df_duration - dataframe with total daily duration\n",
    "                  of news containing slogans\n",
    "    \"\"\"\n",
    "    \n",
    "    # Filter newscasts, so we don't double duration of news releases\n",
    "    df = df[df['whole newscast']==False].copy()\n",
    "    \n",
    "    # Analysis for the first slogan\n",
    "    slogan = slogans[0]\n",
    "    # Mark news stories containing slogans\n",
    "    token_dict = {'body': slogan,\n",
    "                  'title': slogan}\n",
    "    slogan_df = find_tokens(df, token_dict)\n",
    "    # Calculate duration of news\n",
    "    slogan_df['video_duration_slogan'] = slogan_df['video_duration_min'] * slogan_df['contain_token'] \n",
    "    duration_df = slogan_df.groupby('year_month')[['video_duration_slogan']].sum()\n",
    "    duration_df.rename(columns={'video_duration_slogan': 'slogan0'}, inplace=True)\n",
    "    duration_df['EMA_slogan0'] = duration_df['slogan0'].ewm(alpha=0.3).mean()\n",
    "    \n",
    "    # Analysis for the rest of slogans\n",
    "    indx=1\n",
    "    for slogan in slogans[1:]:\n",
    "        \n",
    "        # Mark news stories containing slogans\n",
    "        # 1 - contains; 0 - doesn't contain\n",
    "        token_dict = {'body': slogan,\n",
    "                      'title': slogan}\n",
    "        \n",
    "        slogan_df = find_tokens(df, token_dict)\n",
    "        \n",
    "        # Calculate duration of news\n",
    "        slogan_df['video_duration_slogan'] = slogan_df['video_duration_min'] * slogan_df['contain_token'] \n",
    "        duration_df['slogan'+str(indx)] = slogan_df.groupby('year_month')[['video_duration_slogan']].sum()\n",
    "        duration_df['EMA_slogan'+str(indx)] = duration_df['slogan'+str(indx)].ewm(alpha=0.3).mean()\n",
    "        indx += 1\n",
    "    \n",
    "    return duration_df       "
   ]
  },
  {
   "cell_type": "code",
   "execution_count": 12,
   "id": "66fa84d3",
   "metadata": {},
   "outputs": [],
   "source": [
    "slogan_duration_df = slogans_duration(df_tokenized, slogans)\n",
    "slogan_duration_df['year'] = slogan_duration_df.index.year "
   ]
  },
  {
   "cell_type": "markdown",
   "id": "9934fc43",
   "metadata": {},
   "source": [
    "## Visualization"
   ]
  },
  {
   "cell_type": "code",
   "execution_count": 13,
   "id": "279c993f",
   "metadata": {},
   "outputs": [],
   "source": [
    "# Get year >=2013 for pictures\n",
    "slogan_duration_df = slogan_duration_df[slogan_duration_df['year']>=2013]"
   ]
  },
  {
   "cell_type": "code",
   "execution_count": 14,
   "id": "3bdc2cb7",
   "metadata": {},
   "outputs": [
    {
     "data": {
      "image/png": "[encoded data removed]",
      "text/plain": [
       "<Figure size 900x350 with 2 Axes>"
      ]
     },
     "metadata": {},
     "output_type": "display_data"
    }
   ],
   "source": [
    "# Create plots\n",
    "fig, ax = plt.subplots(1, 2, figsize=(9,3.5))\n",
    "\n",
    "ax[0].plot(slogan_duration_df.index, \n",
    "           slogan_duration_df['slogan0'], \n",
    "           color=color_2,\n",
    "           label='monthly total news duration')\n",
    "ax[0].plot(slogan_duration_df.index, \n",
    "           slogan_duration_df['EMA_slogan0'], \n",
    "           color=color_1,\n",
    "           label='exponential moving average')\n",
    "\n",
    "ax[1].plot(slogan_duration_df.index, \n",
    "           slogan_duration_df['slogan1'], \n",
    "           color=color_2,\n",
    "           label='monthly total news duration')\n",
    "ax[1].plot(slogan_duration_df.index, \n",
    "           slogan_duration_df['EMA_slogan1'], \n",
    "           color=color_1,\n",
    "           label='exponential moving average')\n",
    "# Annotation\n",
    "ax[1].annotate('Annexation\\nof Crimea\\n2014-03', \n",
    "             xy=(0.15, 0.94), xycoords='axes fraction', \n",
    "             xytext=(0.3, 0.8), textcoords='axes fraction',\n",
    "             fontsize=8, color=color_txt_labels, horizontalalignment='center',\n",
    "             arrowprops=dict(arrowstyle='->, head_width=0.2', \n",
    "                             color=color_txt_labels, linewidth=0.8))\n",
    "\n",
    "ax[1].annotate('Annexation of\\nUkrainian regions\\n2022-09', \n",
    "             xy=(0.92, 0.5), xycoords='axes fraction', \n",
    "             xytext=(0.84, 0.6), textcoords='axes fraction',\n",
    "             fontsize=8, color=color_txt_labels, horizontalalignment='center',\n",
    "             arrowprops=dict(arrowstyle='->, head_width=0.2', \n",
    "                             color=color_txt_labels, linewidth=0.8))\n",
    "\n",
    "ax[0].title.set_text(\"'Collective West'\")\n",
    "ax[1].title.set_text(\"'Never abandon our people'\")\n",
    "\n",
    "# Add more space between subplots\n",
    "plt.subplots_adjust(left=0.1,\n",
    "                    bottom=0.22,\n",
    "                    right=0.9,\n",
    "                    top=0.83,\n",
    "                    wspace=0.14)\n",
    "\n",
    "# Add a legend\n",
    "lines_labels = ax[0].get_legend_handles_labels()\n",
    "lines = lines_labels[0]\n",
    "labels = lines_labels[1]\n",
    "plt.figlegend(lines, labels, loc = 'lower center', frameon=False)\n",
    "\n",
    "\n",
    "\n",
    "plt.suptitle('Monthly Total Duration of News Stories Featuring Slogans (minutes)',\n",
    "             size=12, weight='bold');\n"
   ]
  }
 ],
 "metadata": {
  "kernelspec": {
   "display_name": "Python 3 (ipykernel)",
   "language": "python",
   "name": "python3"
  },
  "language_info": {
   "codemirror_mode": {
    "name": "ipython",
    "version": 3
   },
   "file_extension": ".py",
   "mimetype": "text/x-python",
   "name": "python",
   "nbconvert_exporter": "python",
   "pygments_lexer": "ipython3",
   "version": "3.9.13"
  }
 },
 "nbformat": 4,
 "nbformat_minor": 5
}
